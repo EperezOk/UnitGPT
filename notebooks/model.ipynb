{
 "cells": [
  {
   "cell_type": "code",
   "execution_count": 1,
   "metadata": {},
   "outputs": [],
   "source": [
    "# LLM\n",
    "from langchain_ollama import ChatOllama\n",
    "from langchain_core.output_parsers import StrOutputParser\n",
    "from langchain_core.prompts import ChatPromptTemplate\n",
    "\n",
    "# Vector DB\n",
    "from langchain_chroma import Chroma\n",
    "from langchain_ollama import OllamaEmbeddings\n",
    "from langchain_community.document_loaders import JSONLoader\n",
    "\n",
    "# Output\n",
    "import os\n",
    "import pprint as pp\n",
    "from jinja2 import Template\n",
    "from src.model import Model"
   ]
  },
  {
   "cell_type": "code",
   "execution_count": 2,
   "metadata": {},
   "outputs": [
    {
     "data": {
      "text/plain": [
       "'C:\\\\Users\\\\balia\\\\OneDrive\\\\Escritorio\\\\Facultad\\\\2Q-2024\\\\propertyGPT'"
      ]
     },
     "execution_count": 2,
     "metadata": {},
     "output_type": "execute_result"
    }
   ],
   "source": [
    "root = os.path.abspath(os.path.join(os.getcwd()))\n",
    "root"
   ]
  },
  {
   "cell_type": "code",
   "execution_count": 3,
   "metadata": {},
   "outputs": [
    {
     "data": {
      "text/plain": [
       "2"
      ]
     },
     "execution_count": 3,
     "metadata": {},
     "output_type": "execute_result"
    }
   ],
   "source": [
    "def metadata_func(record: dict, metadata: dict) -> dict:\n",
    "    metadata[\"test\"] = record.get(\"test\")\n",
    "    metadata[\"function\"] = record.get(\"function\")\n",
    "    return metadata\n",
    "\n",
    "# Reference: https://python.langchain.com/docs/integrations/document_loaders/json\n",
    "loader = JSONLoader(\n",
    "    file_path=f\"{root}/data/tests.json\",\n",
    "    jq_schema=\".tests[]\",\n",
    "    content_key=\"description\",\n",
    "    metadata_func=metadata_func,\n",
    ")\n",
    "\n",
    "docs = loader.load()\n",
    "len(docs)"
   ]
  },
  {
   "cell_type": "code",
   "execution_count": 4,
   "metadata": {},
   "outputs": [],
   "source": [
    "model = Model(docs)"
   ]
  },
  {
   "cell_type": "code",
   "execution_count": 5,
   "metadata": {},
   "outputs": [
    {
     "name": "stdout",
     "output_type": "stream",
     "text": [
      "**************************************************\n",
      "Generating Test Function Code\n",
      "**************************************************\n"
     ]
    }
   ],
   "source": [
    "model.generate_test_function(f\"{root}/contracts/ERC20.sol\", \"ERC20\", recompile_tries=1)"
   ]
  },
  {
   "cell_type": "code",
   "execution_count": 6,
   "metadata": {},
   "outputs": [
    {
     "name": "stdout",
     "output_type": "stream",
     "text": [
      "**************************************************\n",
      "Generating output\n",
      "**************************************************\n",
      "**************************************************\n",
      "Contract generated in: C:\\Users\\balia\\OneDrive\\Escritorio\\Facultad\\2Q-2024\\propertyGPT/foundry/test/ERC20.t.sol\n",
      "**************************************************\n"
     ]
    }
   ],
   "source": [
    "model.generate_output(\"ERC20\", f\"{root}/foundry/test\")"
   ]
  }
 ],
 "metadata": {
  "kernelspec": {
   "display_name": "Python 3 (ipykernel)",
   "language": "python",
   "name": "python3"
  },
  "language_info": {
   "codemirror_mode": {
    "name": "ipython",
    "version": 3
   },
   "file_extension": ".py",
   "mimetype": "text/x-python",
   "name": "python",
   "nbconvert_exporter": "python",
   "pygments_lexer": "ipython3",
   "version": "3.11.3"
  }
 },
 "nbformat": 4,
 "nbformat_minor": 2
}
