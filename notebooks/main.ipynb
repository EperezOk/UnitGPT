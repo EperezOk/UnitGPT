{
 "cells": [
  {
   "cell_type": "code",
   "execution_count": 132,
   "metadata": {
    "vscode": {
     "languageId": "python"
    }
   },
   "outputs": [],
   "source": [
    "# LLM\n",
    "from langchain_ollama import ChatOllama\n",
    "from langchain_core.output_parsers import StrOutputParser\n",
    "from langchain_core.prompts import ChatPromptTemplate\n",
    "\n",
    "# Vector DB\n",
    "from langchain_chroma import Chroma\n",
    "from langchain_ollama import OllamaEmbeddings\n",
    "from langchain_core.documents import Document\n",
    "from langchain_community.document_loaders import JSONLoader"
   ]
  },
  {
   "cell_type": "code",
   "execution_count": 121,
   "metadata": {
    "vscode": {
     "languageId": "python"
    }
   },
   "outputs": [],
   "source": [
    "model = ChatOllama(\n",
    "    model=\"gemma2:27b\",\n",
    ")"
   ]
  },
  {
   "cell_type": "code",
   "execution_count": 145,
   "metadata": {
    "vscode": {
     "languageId": "python"
    }
   },
   "outputs": [],
   "source": [
    "\n",
    "embedding_model = OllamaEmbeddings(model=\"mxbai-embed-large\")\n",
    "\n",
    "doc1 = Document(\n",
    "    page_content=\"\"\"\n",
    "    function test_transfer() public {\n",
    "        ERC20 token = new ERC20(\"USD Coin\", \"USDC\");\n",
    "        address owner = address(this);\n",
    "        address recipient = address(0x1);\n",
    "        token.mint(owner, 100);\n",
    "\n",
    "        token.transfer(recipient, 50);\n",
    "        assertEq(token.balanceOf(owner), 50);\n",
    "        assertEq(token.balanceOf(recipient), 50);\n",
    "    }\n",
    "    \"\"\",\n",
    "    metadata={\"source\": \"tweet\"},\n",
    ")\n",
    "\n",
    "vectorstore = Chroma(\n",
    "    collection_name=\"foundry_tests\",\n",
    "    embedding_function=embedding_model,\n",
    "    persist_directory=\"chroma_db\"\n",
    ")\n",
    "\n",
    "vectorstore.add_documents(documents=[doc1])"
   ]
  },
  {
   "cell_type": "code",
   "execution_count": 153,
   "metadata": {
    "vscode": {
     "languageId": "python"
    }
   },
   "outputs": [
    {
     "data": {
      "text/plain": [
       "[Document(metadata={'source': 'news'}, page_content='Robbers broke into the city bank and stole $1 million in cash.')]"
      ]
     },
     "execution_count": 153,
     "metadata": {},
     "output_type": "execute_result"
    }
   ],
   "source": [
    "docs = vectorstore.similarity_search(\"money\", k=1)\n",
    "docs"
   ]
  },
  {
   "cell_type": "code",
   "execution_count": 143,
   "metadata": {
    "vscode": {
     "languageId": "python"
    }
   },
   "outputs": [
    {
     "name": "stdout",
     "output_type": "stream",
     "text": [
      "* I had chocolate chip pancakes and scrambled eggs for breakfast this morning. [{'source': 'tweet'}]\n"
     ]
    }
   ],
   "source": [
    "for res in docs:\n",
    "    print(f\"* {res.page_content} [{res.metadata}]\")"
   ]
  },
  {
   "cell_type": "markdown",
   "metadata": {},
   "source": [
    "# Create code"
   ]
  },
  {
   "cell_type": "code",
   "execution_count": 184,
   "metadata": {
    "vscode": {
     "languageId": "python"
    }
   },
   "outputs": [],
   "source": [
    "PROMPT_TEMPLATE = \"\"\"\n",
    "Based on the test function ([reference function test code]) which tests the function code example ([reference function code example]), generate a corresponding test function for the ([function to be tested]) function within the ([contract code to be tested]) contract. This function is for use within the Foundry framework for writing smart contracts.\n",
    "\n",
    "---\n",
    "\n",
    "[reference function test code]: {reference_function_test_code}\n",
    "[reference function code example]: {reference_function_code_example}\n",
    "[contract code to be tested]: {contract_code}\n",
    "[function code to be tested]: {function_code}\n",
    "\n",
    "---\n",
    "\n",
    "Your output MUST be a single valid Solidity function, with the setup and assertions necessary to test the function. Do NOT wrap the function in a markdown code block.\n",
    "REMEMBER, do NOT include a description of the function or any other text, only the code.\n",
    "REMEMBER, you MUST only generate a single function, not a full test contract.\n",
    "\"\"\"\n",
    "\n",
    "prompt = ChatPromptTemplate.from_template(PROMPT_TEMPLATE)\n",
    "\n",
    "chain = (\n",
    "    prompt\n",
    "    | model\n",
    "    | StrOutputParser()\n",
    ")\n",
    "\n",
    "with open(\"./contracts/ERC20.sol\", \"r\") as f:    \n",
    "    contract_code = f.read()\n",
    "\n",
    "reference_function_code_example = \"\"\"\n",
    "function transfer(address to, uint256 amount) public virtual override returns (bool) {\n",
    "    address owner = msg.sender;\n",
    "    _transfer(owner, to, amount);\n",
    "    return true;\n",
    "}\n",
    "\"\"\"\n",
    "\n",
    "reference_function_test_code = \"\"\"\n",
    "function test_transfer() public {\n",
    "    ERC20 token = new ERC20(\"USD Coin\", \"USDC\");\n",
    "    address owner = address(this);\n",
    "    address recipient = address(0x1);\n",
    "    token.mint(owner, 100);\n",
    "\n",
    "    token.transfer(recipient, 50);\n",
    "    assertEq(token.balanceOf(owner), 50);\n",
    "    assertEq(token.balanceOf(recipient), 50);\n",
    "}\n",
    "\"\"\"\n",
    "\n",
    "function_code = \"\"\"\n",
    "function mint(address account, uint256 amount) public virtual {\n",
    "    require(account != address(0), \"ERC20: mint to the zero address\");\n",
    "\n",
    "    _beforeTokenTransfer(address(0), account, amount);\n",
    "\n",
    "    _totalSupply += amount;\n",
    "    unchecked {\n",
    "        // Overflow not possible: balance + amount is at most totalSupply + amount, which is checked above.\n",
    "        _balances[account] += amount;\n",
    "    }\n",
    "    emit Transfer(address(0), account, amount);\n",
    "\n",
    "    _afterTokenTransfer(address(0), account, amount);\n",
    "}\n",
    "\"\"\"\n",
    "\n",
    "response = chain.invoke({\n",
    "    \"reference_function_test_code\": reference_function_test_code,\n",
    "    \"reference_function_code_example\": reference_function_code_example,\n",
    "    \"contract_code\": contract_code,\n",
    "    \"function_code\": function_code\n",
    "})"
   ]
  },
  {
   "cell_type": "code",
   "execution_count": 155,
   "metadata": {
    "vscode": {
     "languageId": "python"
    }
   },
   "outputs": [],
   "source": [
    "with open(\"response.txt\", \"w\") as f:\n",
    "    f.write(response)"
   ]
  },
  {
   "cell_type": "markdown",
   "metadata": {},
   "source": [
    "# Fix compiler errors"
   ]
  },
  {
   "cell_type": "code",
   "execution_count": 189,
   "metadata": {
    "vscode": {
     "languageId": "python"
    }
   },
   "outputs": [],
   "source": [
    "err_model = ChatOllama(\n",
    "    model=\"gemma2:27b\",\n",
    ")"
   ]
  },
  {
   "cell_type": "code",
   "execution_count": 108,
   "metadata": {
    "vscode": {
     "languageId": "python"
    }
   },
   "outputs": [],
   "source": [
    "ERROR_PROMPT_TEMPLATE = \"\"\"\n",
    "I wrote the Solidity test function ([test function code]) to run on the Foundry framework. When this code is compiled with Foundry, I get this error ([compiler error]).\n",
    "This test is for the function ([function code to be tested]) within the contract ([contract code to be tested]). \n",
    "\n",
    "Your task is to understand the test I provided, fix the test code, and correct the error within the test. You MUST modify the test function code while maintaining its functionality, but do NOT add other unrelated code.\n",
    "\n",
    "---\n",
    "\n",
    "[test function code]: {test_res}\n",
    "[compiler error]: {error_info}\n",
    "[function code to be tested]: {function_code}\n",
    "[contract code to be tested]: {contract_code}\n",
    "\n",
    "---\n",
    "\n",
    "Your output MUST be the single valid Solidity test function you fixed.\n",
    "REMEMBER, do NOT include a description of the function or any other text, only the code.\n",
    "REMEMBER, you MUST only generate a single test function, not a full test contract.\n",
    "\"\"\"\n",
    "\n",
    "error_prompt = ChatPromptTemplate.from_template(ERROR_PROMPT_TEMPLATE)\n",
    "\n",
    "\n",
    "chain = (\n",
    "    error_prompt\n",
    "    | err_model\n",
    "    | StrOutputParser()\n",
    ")\n",
    "\n",
    "error_info = \"\"\"\n",
    "Compiler run failed:\n",
    "Error (6160): Wrong argument count for function call: 0 arguments given but expected 2.\n",
    "  --> test/ERC20.t.sol:10:23:\n",
    "   |\n",
    "10 |         ERC20 token = new ERC20();\n",
    "   |                       ^^^^^^^^^^^\n",
    "\n",
    "Error (9574): Type int_const 4886718345 is not implicitly convertible to expected type address.\n",
    "  --> test/ERC20.t.sol:11:9:\n",
    "   |\n",
    "11 |         address account = 0x123456789;\n",
    "   | \n",
    "\"\"\"\n",
    "\n",
    "test_res = \"\"\"\n",
    "function testMint() public {\n",
    "    ERC20 token = new ERC20();\n",
    "    address account = 0x123456789;\n",
    "    uint256 amount = 100;\n",
    "\n",
    "    // Initial balance\n",
    "    assertEq(token.balanceOf(account), 0);\n",
    "\n",
    "    // Mint tokens\n",
    "    token.mint(account, amount);\n",
    "\n",
    "    // Check balance after minting\n",
    "    assertEq(token.balanceOf(account), amount);\n",
    "}\n",
    "\"\"\"\n",
    "\n",
    "error_response = chain.invoke({\n",
    "    \"error_info\": error_info,\n",
    "    \"test_res\": test_res,\n",
    "    \"contract_code\": contract_code,\n",
    "    \"function_code\": function_code\n",
    "})"
   ]
  },
  {
   "cell_type": "code",
   "execution_count": 109,
   "metadata": {
    "vscode": {
     "languageId": "python"
    }
   },
   "outputs": [],
   "source": [
    "with open(\"err_response.txt\", \"w\") as f:\n",
    "    f.write(error_response)"
   ]
  }
 ],
 "metadata": {
  "kernelspec": {
   "display_name": "Python 3 (ipykernel)",
   "language": "python",
   "name": "python3"
  },
  "language_info": {
   "name": "",
   "version": ""
  }
 },
 "nbformat": 4,
 "nbformat_minor": 2
}
